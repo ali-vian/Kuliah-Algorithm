{
 "cells": [
  {
   "cell_type": "code",
   "execution_count": 22,
   "id": "fbba2019",
   "metadata": {},
   "outputs": [
    {
     "data": {
      "text/plain": [
       "'bdg'"
      ]
     },
     "execution_count": 22,
     "metadata": {},
     "output_type": "execute_result"
    }
   ],
   "source": [
    "def newKalimat(kalimat):\n",
    "    kali=\"\"\n",
    "    for i in range(1,len(kalimat),2):\n",
    "        kali+=kalimat[i]\n",
    "    return kali   \n",
    "newKalimat(\"abcdfg\")"
   ]
  },
  {
   "cell_type": "code",
   "execution_count": 32,
   "id": "7b485a2f",
   "metadata": {},
   "outputs": [
    {
     "data": {
      "text/plain": [
       "120"
      ]
     },
     "execution_count": 32,
     "metadata": {},
     "output_type": "execute_result"
    }
   ],
   "source": [
    "def factorialRcv(agk):\n",
    "    if agk==1:\n",
    "        return 1\n",
    "    else:\n",
    "        return agk*factorialRcv(agk-1)\n",
    "factorialRcv(5)"
   ]
  },
  {
   "cell_type": "code",
   "execution_count": 43,
   "id": "ccfcfec4",
   "metadata": {},
   "outputs": [
    {
     "data": {
      "text/plain": [
       "125"
      ]
     },
     "execution_count": 43,
     "metadata": {},
     "output_type": "execute_result"
    }
   ],
   "source": [
    "def eks(x,n):\n",
    "    if n == 0:\n",
    "        return 1\n",
    "    else:\n",
    "        return x*eks(x,n-1)\n",
    "eks(5,3)"
   ]
  },
  {
   "cell_type": "code",
   "execution_count": 67,
   "id": "a482c71b",
   "metadata": {},
   "outputs": [
    {
     "data": {
      "text/plain": [
       "10"
      ]
     },
     "execution_count": 67,
     "metadata": {},
     "output_type": "execute_result"
    }
   ],
   "source": [
    "def deret (a,b,n):\n",
    "    if n == 1:\n",
    "        return a\n",
    "    else:\n",
    "        return b+deret(a,b,n-1)\n",
    "\n",
    "deret(1,3,4)"
   ]
  },
  {
   "cell_type": "code",
   "execution_count": 79,
   "id": "0420eb18",
   "metadata": {},
   "outputs": [
    {
     "data": {
      "text/plain": [
       "8"
      ]
     },
     "execution_count": 79,
     "metadata": {},
     "output_type": "execute_result"
    }
   ],
   "source": [
    "def fibo(num):\n",
    "    if num==0 or num==1:\n",
    "        return 1\n",
    "    else:\n",
    "        return fibo(num-1)+fibo(num-2)\n",
    "fibo(5)"
   ]
  },
  {
   "cell_type": "code",
   "execution_count": 100,
   "id": "d595b29a",
   "metadata": {},
   "outputs": [
    {
     "data": {
      "text/plain": [
       "False"
      ]
     },
     "execution_count": 100,
     "metadata": {},
     "output_type": "execute_result"
    }
   ],
   "source": [
    "[2]>[3,1,2]"
   ]
  },
  {
   "cell_type": "code",
   "execution_count": 73,
   "id": "e5f96426",
   "metadata": {},
   "outputs": [
    {
     "data": {
      "text/plain": [
       "100"
      ]
     },
     "execution_count": 73,
     "metadata": {},
     "output_type": "execute_result"
    }
   ],
   "source": [
    "def maksimal(array):\n",
    "    if len(array)==1:\n",
    "        return array[0]\n",
    "    else:\n",
    "        if array[0]>maksimal(array[1:]):\n",
    "            return array[0]\n",
    "        else:\n",
    "            return maksimal(array[1:])\n",
    "maksimal([100,2,3,34,2])"
   ]
  },
  {
   "cell_type": "code",
   "execution_count": 106,
   "id": "2004ad73",
   "metadata": {},
   "outputs": [],
   "source": [
    "def createMatrix2D(brs,kol):\n",
    "    newMat=[]\n",
    "    for i in range(brs):\n",
    "        kolom=[]\n",
    "        for x in range(kol):\n",
    "            kolom.append(int(input(f\"masukkan data {i},{x}:\")))\n",
    "        newMat.append(kolom)\n",
    "    return newMat"
   ]
  },
  {
   "cell_type": "code",
   "execution_count": 108,
   "id": "5fdcfdbe",
   "metadata": {},
   "outputs": [
    {
     "name": "stdout",
     "output_type": "stream",
     "text": [
      "[0,0] [0,1] \n",
      "\n",
      "[1,0] [1,1] \n",
      "\n"
     ]
    }
   ],
   "source": [
    "def matri(brs,klm):\n",
    "    for i in range(brs):\n",
    "        for x in range(klm):\n",
    "            print(f\"[{i},{x}] \",end=\"\")\n",
    "        print(\"\\n\")\n",
    "matri(2,2)"
   ]
  },
  {
   "cell_type": "code",
   "execution_count": 105,
   "id": "eef6587d",
   "metadata": {},
   "outputs": [
    {
     "data": {
      "text/plain": [
       "[1, 2, 3, 4, 5, 1]"
      ]
     },
     "execution_count": 105,
     "metadata": {},
     "output_type": "execute_result"
    }
   ],
   "source": [
    "def jadi1D(list2D):\n",
    "    list1D=[]\n",
    "    for i in list2D:\n",
    "        for x in i:\n",
    "            list1D.append(x)\n",
    "    return list1D\n",
    "a=[[1,2,3],[4,5],[1]]\n",
    "jadi1D(a)"
   ]
  },
  {
   "cell_type": "code",
   "execution_count": 29,
   "id": "852cbe90",
   "metadata": {},
   "outputs": [
    {
     "name": "stdout",
     "output_type": "stream",
     "text": [
      "masukkan data 0,0:1\n",
      "masukkan data 0,1:2\n",
      "masukkan data 0,2:3\n",
      "masukkan data 1,0:4\n",
      "masukkan data 1,1:5\n",
      "masukkan data 1,2:6\n"
     ]
    },
    {
     "data": {
      "text/plain": [
       "[[1, 2, 3], [4, 5, 6]]"
      ]
     },
     "execution_count": 29,
     "metadata": {},
     "output_type": "execute_result"
    }
   ],
   "source": [
    "createMatrix2D(2,3)"
   ]
  },
  {
   "cell_type": "code",
   "execution_count": 118,
   "id": "4f7507d5",
   "metadata": {},
   "outputs": [
    {
     "name": "stdout",
     "output_type": "stream",
     "text": [
      "     * \n",
      "    * * \n",
      "   * * * \n",
      "  * * * * \n",
      " * * * * * \n"
     ]
    }
   ],
   "source": [
    "def segitiga(size):\n",
    "    for i in range(1,size+1):\n",
    "        print(\" \"*(size-i),\"* \"*i)\n",
    "segitiga(5)"
   ]
  },
  {
   "cell_type": "code",
   "execution_count": 119,
   "id": "3b893f77",
   "metadata": {},
   "outputs": [
    {
     "name": "stdout",
     "output_type": "stream",
     "text": [
      "[[36, 94, 53], [105, 144, 131], [36, 86, 46]]\n"
     ]
    }
   ],
   "source": [
    "def mulMatrix(matrix1,matrix2) :\n",
    "    baris = len(matrix1[0]) == len(matrix2)\n",
    "\n",
    "    if baris :\n",
    "        hasil = []\n",
    "        for i in range(len(matrix1)) :\n",
    "            tmpHasil = []\n",
    "            for j in range(len(matrix2[0])) :\n",
    "                total = 0\n",
    "                for k in range(len(matrix1)) :\n",
    "                    total+= matrix1[i][k]*matrix2[k][j]\n",
    "                tmpHasil.append(total)\n",
    "            hasil.append(tmpHasil)\n",
    "        return hasil\n",
    "    else :\n",
    "        return \"Tidak sama\"\n",
    "\n",
    "\n",
    "\n",
    "mat1 = [[3,1,6],[2,10,3],[4,1,5]]#createMatrix(2,2)\n",
    "mat2 = [[3,4,0],[9,10,11],[3,12,7]]#createMatrix(1,2)\n",
    "\n",
    "#print(mat1)\n",
    "print(mulMatrix(mat1,mat2))"
   ]
  },
  {
   "cell_type": "code",
   "execution_count": null,
   "id": "972b182f",
   "metadata": {},
   "outputs": [],
   "source": [
    "def kaliMatrix(mat1,mat2):\n",
    "    if len(mat1)==len(mat2[0]):\n",
    "        for i in range(len(mat1)):\n",
    "            for x in range(lem(mat1[i])):\n",
    "                \n",
    "                "
   ]
  }
 ],
 "metadata": {
  "kernelspec": {
   "display_name": "Python 3 (ipykernel)",
   "language": "python",
   "name": "python3"
  },
  "language_info": {
   "codemirror_mode": {
    "name": "ipython",
    "version": 3
   },
   "file_extension": ".py",
   "mimetype": "text/x-python",
   "name": "python",
   "nbconvert_exporter": "python",
   "pygments_lexer": "ipython3",
   "version": "3.9.12"
  }
 },
 "nbformat": 4,
 "nbformat_minor": 5
}
