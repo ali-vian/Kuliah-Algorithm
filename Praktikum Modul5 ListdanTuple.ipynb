{
 "cells": [
  {
   "cell_type": "markdown",
   "id": "252a5a9e",
   "metadata": {},
   "source": [
    "## Konsep String, List, dan Tuple\n",
    "Tulis ringkasan atau penjelasan hal-hal berikut, dengan kata-kata kalian sendiri :\n",
    "1.\t**Tuple**, akses variabel yang bertipe tuple (jelaskan indeks, dan pengaksesan setiap anggota yang terdapat pada tuple) dan berikan contoh\n",
    "2.\tPerbedaan **String, List, dan Tuple,** dan berikan contoh kapan waktu yang tepat harus menggunakan tipe string, list, ataupun tuple\n",
    "3.\t**List comprehension** (syntax dan contohnya)\n"
   ]
  },
  {
   "cell_type": "markdown",
   "id": "9347e149",
   "metadata": {},
   "source": [
    "### Jawaban\n",
    "1. Untuk mendapatkan indeks dari setiap anggota tuple kita dapat menggunakan metods ```varTuple.index(anggota)```, dan pengaksesan setiap anggota yang terdapat pada tuple tidak jauh berbeda dengan list/string syntaxnya yaitu : ```VarTuple [a:b]``` mengambil anggota dari index ke a hingga index b-1\n",
    "```\n",
    "# contoh\n",
    "dataTuple = (2,3,5,7,11,13,17)\n",
    "dataTuple.index(7) # untuk menggetahui 7 berada di index ke berapa\n",
    "dataTuple[2] # untuk mengakses anggota 5\n",
    "dataTuple[2:6] # untuk mengakses anggota (5,7,11,13)\n",
    "dataTuple[:] # untuk mengakses semua anggota tuple\n",
    "dataTuple[-1] # untuk mengakses anggota tuple terakhir\n",
    "```\n",
    "2. \n",
    "\n",
    "String :\n",
    "- Diapit menggunakan tanda kutip \n",
    "- berisi karakter dengan tipe data string\n",
    "- karakter dapat di ubah dengan metod replace\n",
    "- *waktu yang tepat untuk menggunkan tipe string yaitu pada saat kita membutuhkan karakter pada sebuah string seperti : mencari huruf vokal, konversi biner ke desimal, dll*\n",
    "\n",
    "List :\n",
    "- Diapit menggunakan tanda kurung siku dan di pisahkan dengan tanda koma\n",
    "- Dapat berisi anggota dengan tipe data string,integer,float,dll\n",
    "- Anggota dapat di ubah dengan asiggment operator\n",
    "- *waktu yang tepat untuk menggunaka tipe list yaitu pada saat kita membutuhkan anggota yang dapat di ubah, seperti: membuat list baru, penjumlahan list, dll* \n",
    "\n",
    "Tuple :\n",
    "- Diapit menggunakan tanda kurung dan dipisahkan dengan tanda koma\n",
    "- Dapat berisi anggota dengan tipe data string,integer,float,dll\n",
    "- Setelah inisialisasi awal anggota tidak dapat di ubah lagi\n",
    "- *waktu yang tepat untuk menggunakan tipe tuple yaitu pada saat kita membutuhkan data yang anggotanya selalu tetap dan tidak dapat diubah seperti data NIM, data tanggal lahir,dll*\n",
    "\n",
    "3.\n",
    "```\n",
    "syntax :\n",
    "newlist = [expression for item in iterable if conditional]\n",
    "\n",
    "contoh:\n",
    "angkaGanjil = [i for i in range(10) if i%2==1]\n",
    "```"
   ]
  },
  {
   "cell_type": "markdown",
   "id": "819fda9c",
   "metadata": {},
   "source": [
    "## 2\tImplementasi\n",
    "### 2.1\tFaktor Pembagi\n",
    "Buatlah code untuk mendapatkan faktor pembagi dari dua buah bilangan, dan faktor pembagi yang sama dari dua buah bilangan tersebut, dengan ketentuan sebagai berikut :\n",
    "- Dua bilangan yang akan dicari faktor pembaginya, adalah inputan dari user\n",
    "- Inputan ini setelah kata **-in-**\n",
    "- Output yang diinginkan ditampilkan setelah kata -**out**- Contoh tampilan yang harus dihasilkan, dapat dilihat pada Gambar 1.\n"
   ]
  },
  {
   "cell_type": "code",
   "execution_count": 21,
   "id": "4945ebdc",
   "metadata": {},
   "outputs": [
    {
     "name": "stdout",
     "output_type": "stream",
     "text": [
      "-in-\n",
      "masukkan bilangan pertama = 64\n",
      "masukkan bilangan kedua = 84\n",
      "-out-\n",
      "faktor pembagi  64  =\t [1, 2, 4, 8, 16, 32, 64]\n",
      "faktor pembagi  84  =\t [1, 2, 3, 4, 6, 7, 12, 14, 21, 28, 42, 84]\n",
      "Pembagi yang sama   =\t [1, 2, 4]\n"
     ]
    }
   ],
   "source": [
    "# jawaban\n",
    "print(\"-in-\")\n",
    "bil1 = int (input (\"masukkan bilangan pertama = \"))\n",
    "bil2 = int (input (\"masukkan bilangan kedua = \"))\n",
    "pembagi1=[]\n",
    "pembagi2=[]\n",
    "sama=[]\n",
    "for i in range (1,bil1+1):\n",
    "    if bil1%i == 0:\n",
    "        pembagi1.append(i)\n",
    "for x in range (1,bil2+1):\n",
    "    if bil2%x == 0:\n",
    "        pembagi2.append(x)\n",
    "    if bil1%x==0 and bil2%x==0:\n",
    "        sama.append(x)\n",
    "print('-out-')\n",
    "print(\"faktor pembagi \",bil1,\" =\\t\",pembagi1)\n",
    "print(\"faktor pembagi \",bil2,\" =\\t\",pembagi2)\n",
    "print(\"Pembagi yang sama   =\\t\",sama)"
   ]
  },
  {
   "cell_type": "markdown",
   "id": "9d56ef6b",
   "metadata": {},
   "source": [
    "### 2.2\tPenjumlahan List\n",
    "Buatlah code untuk menjumlahkan dua buah list, dengan ketentuan sebagai berikut :\n",
    "- banyaknya anggota dan anggota dari masing-masing adalah inputan dari list\n",
    "- inputan ini setelah kata -**in**-, dimana baris pertama adalah banyaknya anggota dari list, kemudian baris berikutnya adalah anggota atau nilai dari list tersebut\n",
    "- output yang diinginkan ditampilkan setelah kata -**out**-\n",
    "- Terdapat tiga buah skenario penjumlahan, yaitu ketika banyaknya anggota adalah sama, banyaknya anggota list pertama lebih banyak dari pada list kedua, dan banyaknya anggota list kedua lebih banyak dari pada list pertama.<br>\n",
    "Contoh tampilan yang harus dihasilkan, dapat dilihat pada Gambar 2.\n"
   ]
  },
  {
   "cell_type": "code",
   "execution_count": 24,
   "id": "782e2706",
   "metadata": {},
   "outputs": [
    {
     "name": "stdout",
     "output_type": "stream",
     "text": [
      "-in-\n",
      "masukkan ukuran list yang pertama = 6\n",
      "masukkan data yang ke-0 : 4\n",
      "masukkan data yang ke-1 : 9\n",
      "masukkan data yang ke-2 : 1\n",
      "masukkan data yang ke-3 : 5\n",
      "masukkan data yang ke-4 : 3\n",
      "masukkan data yang ke-5 : 8\n",
      "masukkan ukuran list yang kedua = 4\n",
      "masukkan data yang ke-0 : 7\n",
      "masukkan data yang ke-1 : 3\n",
      "masukkan data yang ke-2 : 4\n",
      "masukkan data yang ke-3 : 1\n",
      "-out-\n",
      "List pertama\t\t= [4, 9, 1, 5, 3, 8]\n",
      "List kedua\t\t= [7, 3, 4, 1]\n",
      "Hasil penjumlahan\t= [11, 12, 5, 6, 3, 8]\n"
     ]
    }
   ],
   "source": [
    "# Jawaban\n",
    "print(\"-in-\")\n",
    "n1 = int (input(\"masukkan ukuran list yang pertama = \"))\n",
    "list1=[]\n",
    "list2=[]\n",
    "result=[]\n",
    "for i in range(n1):\n",
    "    x=int(input(\"masukkan data yang ke-\"+str(i)+\" : \"))\n",
    "    list1.append(x)\n",
    "n2 = int (input(\"masukkan ukuran list yang kedua = \"))\n",
    "for j in range(n2):\n",
    "    y=int(input(f\"masukkan data yang ke-\"+str(j)+\" : \"))\n",
    "    list2.append(y)\n",
    "if n1 > n2:\n",
    "    maks=list1\n",
    "    mins=list2\n",
    "else:\n",
    "    maks=list2\n",
    "    mins=list1\n",
    "for k in range(len(maks)):\n",
    "    if k < len(mins):\n",
    "        result.append(list1[k]+list2[k])\n",
    "    else:\n",
    "        result.append(maks[k])\n",
    "print(\"-out-\")\n",
    "print(\"List pertama\\t\\t=\",list1)\n",
    "print(\"List kedua\\t\\t=\",list2)\n",
    "print(\"Hasil penjumlahan\\t=\",result)"
   ]
  },
  {
   "cell_type": "markdown",
   "id": "3ef6f25d",
   "metadata": {},
   "source": [
    "### 2.3\tMendapatkan nama hari dari suatu tanggal\n",
    "Buatlah code dengan menggunakan Python mendapatkan nama hari (gunakan data dengan bentuk tuple), dengan ketentuan sebagai berikut\n",
    "- user memberikan informasi bahwa tanggal pertama bulan ini, jatuh pada hari tertentu\n",
    "- tanggal yang ingin dicari nama harinya, adalah inputan dari user\n",
    "- untuk melihat apakah output yang dihasilkan adalah benar, dapat dilihat di calender\n",
    "Petunjuk : untuk mendapatkan index dari suatu data tuple atau list, bisa digunakan perintah namaTuple.index(anggota).<br>\n",
    "Contoh output yang dihasilkan dapat dilihat pada Gambar 3.\n"
   ]
  },
  {
   "cell_type": "code",
   "execution_count": 14,
   "id": "235bdd29",
   "metadata": {},
   "outputs": [
    {
     "name": "stdout",
     "output_type": "stream",
     "text": [
      "Masukkan informasi, hari pertama bulan ini, jatuh pada hari : rabu\n",
      "Masukkan tanggal yang ingin diketahui : 24\n",
      "Tanggal  24  adalah hari  Jumat\n"
     ]
    }
   ],
   "source": [
    "# Jawaban\n",
    "days = ('senin','selasa','rabu','kamis','jumat','sabtu','minggu')\n",
    "dt1 = input (\"Masukkan informasi, hari pertama bulan ini, jatuh pada hari : \")\n",
    "date = int(input(\"Masukkan tanggal yang ingin diketahui : \"))\n",
    "for i in range(days.index(dt1) , date%len(days) + days.index(dt1)):\n",
    "    if i >= len(days):\n",
    "        result=days[i-len(days)]\n",
    "    else:\n",
    "        result=days[i]\n",
    "print(\"Tanggal \",date,\" adalah hari \",result.capitalize())"
   ]
  }
 ],
 "metadata": {
  "kernelspec": {
   "display_name": "Python 3 (ipykernel)",
   "language": "python",
   "name": "python3"
  },
  "language_info": {
   "codemirror_mode": {
    "name": "ipython",
    "version": 3
   },
   "file_extension": ".py",
   "mimetype": "text/x-python",
   "name": "python",
   "nbconvert_exporter": "python",
   "pygments_lexer": "ipython3",
   "version": "3.9.12"
  }
 },
 "nbformat": 4,
 "nbformat_minor": 5
}
