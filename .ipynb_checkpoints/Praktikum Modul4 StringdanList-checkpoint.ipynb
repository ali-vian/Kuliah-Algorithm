{
 "cells": [
  {
   "cell_type": "markdown",
   "id": "7633d263",
   "metadata": {},
   "source": [
    "## 1\tKonsep String\n",
    "Tulis ringkasan atau penjelasan hal-hal berikut, dengan kata-kata kalian sendiri :\n",
    "1.\tPengertian variabel dengan type data String, dan berikan contoh\n",
    "2.\tPengaksesan variabel yang bertipe string (jelaskan offset, dan pengaksesan setiap anggota yang terdapat pada string), dan berikan contoh\n"
   ]
  },
  {
   "cell_type": "markdown",
   "id": "564ca6dc",
   "metadata": {},
   "source": [
    "### Jawaban \n",
    "1. Variabel dengan type data String adalah variabel yang berisi sebuah karakter atau banyak karakter yang berupa huruf,nomor,symbol,dll. Yang diapit menggunakan tanda kutip ```\" \"``` atau ```' '```\n",
    "```\n",
    "# contoh\n",
    "data = \"kota jombang\"\n",
    "data = \"20 ribu\"\n",
    "```\n",
    "2. Untuk pengaksesan variabel yang bertipe data string dapat menggunakan offset, offset adalah posisi dari suatu karakter di dalam variabel string yang di hitung dari karakter pertama ( offset ke- 0). untuk mengakses list kita dapat menggunakan syntax seperti ini\n",
    "```strVar [a:b]``` mengambil karakter dari offset a hingga offset b-1\n",
    "```\n",
    "# contoh\n",
    "data = 'Kota Jombang'\n",
    "data[3] #untuk menggakses 'a'\n",
    "data[2:6] #untuk menggakses 'ta J'\n",
    "data[:] #untuk menggakses semua karakter\n",
    "data[-1] #untuk menggakses karakter terakhir\n",
    "```"
   ]
  },
  {
   "cell_type": "markdown",
   "id": "5ba38573",
   "metadata": {},
   "source": [
    "## 2\tImplementasi\n",
    "### 2.1\tOffset Karakter\n",
    "Buatlah flowchart untuk mencari indeks/offset dari suatu karakter atau huruf pada suatu kalimat, dengan ketentuan:\n",
    "- kalimat merupakan inputan dari user\n",
    "- huruf yang dicari merupakan inputan dari user\n",
    "- huruf kapital (huruf besar) dan huruf kecil dianggap sama<br/>\n",
    "Implementasikan flowchart tersebut dengan bahasa Python, dan contoh output sesuai dengan Gambar 1.\n"
   ]
  },
  {
   "cell_type": "code",
   "execution_count": 1,
   "id": "aa81d7ca",
   "metadata": {},
   "outputs": [
    {
     "name": "stdout",
     "output_type": "stream",
     "text": [
      "masukkan kalimat = Universitas Trunojoyo Madura\n",
      "masukkan huruf yang dicari = t\n",
      "huruf  t  atau huruf  T  ke-  1  : offset-  8\n",
      "huruf  t  atau huruf  T  ke-  2  : offset-  12\n"
     ]
    }
   ],
   "source": [
    "kalimat = input(\"masukkan kalimat = \")\n",
    "findHuruf = input(\"masukkan huruf yang dicari = \")\n",
    "hurufbesar = findHuruf.upper()\n",
    "hurufkecil = findHuruf.lower()\n",
    "count=1\n",
    "for i in range(len(kalimat)):\n",
    "    if kalimat[i]==hurufkecil or kalimat[i]==hurufbesar:\n",
    "        print(\"huruf \",hurufkecil,\" atau huruf \",hurufbesar,\" ke- \",count,\" : offset- \",i)\n",
    "        count+=1"
   ]
  },
  {
   "cell_type": "markdown",
   "id": "c4eb945d",
   "metadata": {},
   "source": [
    "### 2.2\tKonversi Bilangan\n",
    "Buatlah code menu untuk konversi bilangan dari Desimal ke Biner dan sebaliknya, yaitu :\n",
    "- pilihan 1: Desimal ke Biner (input Desimal, output Biner)\n",
    "- pilihan 2: Biner ke Desimal (input Biner, output Desimal)\n",
    "- menu lagi, apakah user akan mengulangi operasi ataukah berhenti Contoh output dapat dilihat pada Gambar 2.\n"
   ]
  },
  {
   "cell_type": "code",
   "execution_count": 1,
   "id": "3574d5d9",
   "metadata": {},
   "outputs": [
    {
     "name": "stdout",
     "output_type": "stream",
     "text": [
      "\n",
      "Menu\n",
      "Tekan 1 untuk konversi Desimal ke Biner\n",
      "Tekan 2 untuk konversi Biner ke Desimal\n",
      "Bilangan desimal =  2\n",
      "==================================================\n",
      "\n",
      "Menu\n",
      "Tekan 1 untuk konversi Desimal ke Biner\n",
      "Tekan 2 untuk konversi Biner ke Desimal\n",
      "Bilangan desimal =  240\n",
      "==================================================\n"
     ]
    }
   ],
   "source": [
    "stop=False\n",
    "while not(stop):    \n",
    "    print('''\n",
    "Menu\n",
    "Tekan 1 untuk konversi Desimal ke Biner\n",
    "Tekan 2 untuk konversi Biner ke Desimal''')\n",
    "    pilih=int(input(\"Masukkan pilihan anda = \"))\n",
    "    if pilih==1:\n",
    "        desimal=int(input(\"Masukkan Desimal = \"))\n",
    "        temp=''\n",
    "        while desimal != 0:\n",
    "            hasil=desimal%2\n",
    "            desimal=desimal//2\n",
    "            temp=str(hasil)+temp\n",
    "        print(\"Bilangan Biner = \",temp)\n",
    "    elif pilih==2:\n",
    "        biner=input('Masukkan Biner = ')\n",
    "        hasil=0\n",
    "        pangkat=0\n",
    "        for i in range(len(biner)-1,-1,-1):\n",
    "            hasil=hasil+int(biner[i])*(2**pangkat)\n",
    "            pangkat+=1\n",
    "        print(\"Bilangan desimal = \",hasil)\n",
    "    else:\n",
    "        print(\"Menu tidak terdaftar\")\n",
    "    lanjut=input(\"Lanjut ? (y/t)\")\n",
    "    print(50*\"=\")\n",
    "    if lanjut == \"t\":\n",
    "        stop=True"
   ]
  },
  {
   "cell_type": "markdown",
   "id": "056487f6",
   "metadata": {},
   "source": [
    "### 2.3\tFungsi Matematika\n",
    "Terdapat fungsi matematika berikut ini :\n",
    "$$ f(x)=\\sum_{i=1}^n (xi-x\n",
    "$$\n",
    "$$x=\\frac{1}{n}\\sum_{i=1}^n (xi\n",
    "$$\n",
    "dimana x merupakan list dengan n buah anggota numerik dengan indeks dimulai dari 1. Contoh output dari fungsi matematika tersebut dapat dilihat pada Gambar 3\n"
   ]
  },
  {
   "cell_type": "code",
   "execution_count": 1,
   "id": "52ea3e88",
   "metadata": {},
   "outputs": [
    {
     "name": "stdout",
     "output_type": "stream",
     "text": [
      "x =  [2, 4, 6, 8, 10]\n",
      "xbar =  6.0\n",
      "fx =  0.0\n"
     ]
    }
   ],
   "source": [
    "x = [2,4,6,8,10]\n",
    "print(\"x = \",x)\n",
    "n = len(x)\n",
    "hasil = 0\n",
    "for i in range(n):\n",
    "    hasil = hasil + x[i]\n",
    "xbar = (1/n) * hasil\n",
    "print(\"xbar = \",xbar)\n",
    "fx = 0\n",
    "for i in range(n):\n",
    "    fx = fx + x[i] - xbar\n",
    "print(\"fx = \",fx)"
   ]
  }
 ],
 "metadata": {
  "kernelspec": {
   "display_name": "Python 3 (ipykernel)",
   "language": "python",
   "name": "python3"
  },
  "language_info": {
   "codemirror_mode": {
    "name": "ipython",
    "version": 3
   },
   "file_extension": ".py",
   "mimetype": "text/x-python",
   "name": "python",
   "nbconvert_exporter": "python",
   "pygments_lexer": "ipython3",
   "version": "3.9.12"
  },
  "vscode": {
   "interpreter": {
    "hash": "e7e6dc9be8f1c65284da9564a8969ef94cbb53141aed6e15f2ef15c9221b39ef"
   }
  }
 },
 "nbformat": 4,
 "nbformat_minor": 5
}
