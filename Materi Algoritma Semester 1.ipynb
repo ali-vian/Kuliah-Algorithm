{
 "cells": [
  {
   "cell_type": "markdown",
   "id": "c7333913",
   "metadata": {},
   "source": [
    "## Type Data\n",
    "Kita dapat mengetahui type data dengan perintah type(...)"
   ]
  },
  {
   "cell_type": "code",
   "execution_count": null,
   "id": "42158975",
   "metadata": {},
   "outputs": [],
   "source": [
    "type(\"hello world\") # type data tersebut adalah string yang ada dalam tanda kutip \" \""
   ]
  },
  {
   "cell_type": "code",
   "execution_count": null,
   "id": "12fb881c",
   "metadata": {},
   "outputs": [],
   "source": [
    "type('c') # type data tersebut adalah string yang ada dalam tanda kutip ' '"
   ]
  },
  {
   "cell_type": "code",
   "execution_count": null,
   "id": "38a2f69d",
   "metadata": {},
   "outputs": [],
   "source": [
    "type(a) # type data tersebut error dikarenakan a dianggap sebagai variable sehingga nilai a tidak diketahui"
   ]
  },
  {
   "cell_type": "code",
   "execution_count": null,
   "id": "5af60883",
   "metadata": {},
   "outputs": [],
   "source": [
    "type(2.9) # type data tersebut adalah float yang berupa angaka desimal/pecahan"
   ]
  },
  {
   "cell_type": "code",
   "execution_count": null,
   "id": "a7b55d5e",
   "metadata": {},
   "outputs": [],
   "source": [
    "type(23) # type data tersebut adalah integer yang berupa angka bulat seperti -1,-2,0,3,5,2"
   ]
  },
  {
   "cell_type": "code",
   "execution_count": null,
   "id": "bc18ef4b",
   "metadata": {},
   "outputs": [],
   "source": [
    "type(False) # type data tersebut adalah bo0lean yang berupa True dan False"
   ]
  },
  {
   "cell_type": "markdown",
   "id": "e400d43d",
   "metadata": {},
   "source": [
    "## Variable\n",
    "Suatu data agar dapat diolah atau dirubah maka data tersebut disimpan dalam sebuah variable<br>\n",
    "Aturan dalam membuat variable:\n",
    "1. Tidak boleh menggunakan angka di awal contoh 1nfor, 4_you\n",
    "2. tidak boleh menggunakn sepasi\n",
    "3. tidak boleh menggunakan simbol \n",
    "4. variable harus ada artinya\n",
    "5. variable ini sensitive case huruf besar dan kecil di perhatikan\n",
    "6. tidak menggunakan keywords yang ada"
   ]
  },
  {
   "cell_type": "code",
   "execution_count": null,
   "id": "7f41adb4",
   "metadata": {},
   "outputs": [],
   "source": [
    "strData=\"hello world\"\n",
    "numData=7\n",
    "reData=3.7\n",
    "print(strData)\n",
    "print(numData)\n",
    "print(reData)"
   ]
  },
  {
   "cell_type": "markdown",
   "id": "165760b6",
   "metadata": {},
   "source": [
    "## Operator\n",
    "\"+\" = penjumlahan<br>\n",
    "\"-\" = pengurangan<br>\n",
    "\"*\" = perkalian<br>\n",
    "\"/\" = pembagian<br>\n",
    "\"**\" = pangkat<br>\n",
    "\"//\" = pembagian integar<br>\n",
    "\"% \"=modulo/ modulus\n",
    "\n",
    "Urutan operator yang di dahulukan:\n",
    "1. ( ) >>> 2.  **  //  %  >>> 3.  *  /  >>> 4.  +  -"
   ]
  },
  {
   "cell_type": "code",
   "execution_count": null,
   "id": "37bcf309",
   "metadata": {},
   "outputs": [],
   "source": [
    "x=2**3+7//3*5/6+7-4%2\n",
    "8 + 2* 5 /6+7-0\n",
    "8+1.6666666666666667+7\n",
    "1.6666666666666664\n",
    "print(x)"
   ]
  },
  {
   "cell_type": "code",
   "execution_count": null,
   "id": "94b1874f",
   "metadata": {},
   "outputs": [],
   "source": [
    "#operator string\n",
    "a=7*\"e\"\n",
    "print(a)\n",
    "b=\"aku\"+\"ya ini\"\n",
    "print(b)"
   ]
  },
  {
   "cell_type": "markdown",
   "id": "31ba29f7",
   "metadata": {},
   "source": [
    "## Logikal Operator\n",
    "and, or, not"
   ]
  },
  {
   "cell_type": "markdown",
   "id": "58867335",
   "metadata": {},
   "source": [
    "## Asigment Operator\n",
    "Asigment/ perbandingan operator:\n",
    "1. == \n",
    "2. !=\n",
    "3. \"<\"\n",
    "4. \">\"\n",
    "5. \">=\"\n",
    "6. \"<=\""
   ]
  },
  {
   "cell_type": "markdown",
   "id": "ccb40c8b",
   "metadata": {},
   "source": [
    "## Sequence"
   ]
  },
  {
   "cell_type": "code",
   "execution_count": null,
   "id": "40ccf580",
   "metadata": {},
   "outputs": [],
   "source": [
    "# menghitung akar dari input user\n",
    "bil=int(input('masukkan bilangan :'))\n",
    "import math\n",
    "print(\"akar dari \",bil,\"adalah\",math.sqrt(bil))"
   ]
  },
  {
   "cell_type": "code",
   "execution_count": null,
   "id": "391ca9b4",
   "metadata": {},
   "outputs": [],
   "source": [
    "# manghitung luas lingkaran \n",
    "r=float(input(\"masukkan jari - jari =\"))\n",
    "luas=(22/7)*r**2\n",
    "print(\"luas lingkaran dari \",r,\"adalaha\",luas)"
   ]
  },
  {
   "cell_type": "code",
   "execution_count": null,
   "id": "23e6530e",
   "metadata": {},
   "outputs": [],
   "source": [
    "#konversi dolar ke rupiah\n",
    "dollar=float(input(\"masukkan nilai dolar =\"))\n",
    "krus=float(input(\"masukkan krus saat ini =\"))\n",
    "rupiah=dollar*krus\n",
    "print(dollar,\"dollar =\",rupiah,\" rupiah\")"
   ]
  },
  {
   "cell_type": "code",
   "execution_count": null,
   "id": "71e4b1a9",
   "metadata": {},
   "outputs": [],
   "source": [
    "#menghitung luas segitiga\n",
    "alas=float(input(\"masukkan nilai alas =\"))\n",
    "tinggi=float(input(\"masukkan nilai tinggi =\"))\n",
    "luas=(1/2)*alas*tinggi\n",
    "print(\"Luas segitiga dari\",alas,'dan',tinggi,\"adalah\",luas)"
   ]
  },
  {
   "cell_type": "code",
   "execution_count": null,
   "id": "12f71e10",
   "metadata": {},
   "outputs": [],
   "source": [
    "# konversi suhu fahrenheit ke celcius\n",
    "fahrenheit=float(input('masukkan suhu fahrenheit ='))\n",
    "celcius=5/9*(fahrenheit-32)\n",
    "print(fahrenheit,\"fahrenhrit = \",celcius,' Celcius')"
   ]
  },
  {
   "cell_type": "code",
   "execution_count": null,
   "id": "5a44425e",
   "metadata": {},
   "outputs": [],
   "source": [
    "#menginput suhu dalam celcius\n",
    "celcius=float(input('masukkan suhu celcius='))\n",
    "farenheit=float(input('masukan suhu dalam farenheit='))\n",
    "konfersi=(9/5)+32\n",
    "print('hasil konfersi =',konfersi)"
   ]
  },
  {
   "cell_type": "markdown",
   "id": "4bd42a81",
   "metadata": {},
   "source": [
    "## Branches / Percabangan (Selection)"
   ]
  },
  {
   "cell_type": "code",
   "execution_count": null,
   "id": "f58e94ac",
   "metadata": {},
   "outputs": [],
   "source": [
    "th=int(input(\"masukkan tahun = \"))\n",
    "if th%4==0:\n",
    "    print(th,\"adalah tahun kabisat\")\n",
    "else:\n",
    "    print(th,\"bukan tahun akabisat \")"
   ]
  },
  {
   "cell_type": "code",
   "execution_count": null,
   "id": "253fe6f5",
   "metadata": {},
   "outputs": [],
   "source": [
    "# menantukan bilangan ganjil/genap\n",
    "num=int(input(\"masukkan bilangan =\"))\n",
    "if num%2==0:\n",
    "    print(num,\"merupakan bilangan genap\")\n",
    "else:\n",
    "    print(num,\"merupakan bilangan ganjil\")\n"
   ]
  },
  {
   "cell_type": "code",
   "execution_count": null,
   "id": "e6820187",
   "metadata": {},
   "outputs": [],
   "source": [
    "# mencari 2 nilai maximum\n",
    "num1=int(input(\"masukkan nilai 1= \"))\n",
    "num2=int(input(\"masukkan nilai 2= \"))\n",
    "if num1>=num2:\n",
    "    print(\"nomor terbesar adalah\",num1)\n",
    "else:\n",
    "    print(\"nomor terbesar adalah\",num2)"
   ]
  },
  {
   "cell_type": "code",
   "execution_count": null,
   "id": "2d2cdc70",
   "metadata": {},
   "outputs": [],
   "source": [
    "#tentukan 3 nilai terbesar\n",
    "a=int(input('masukkan nilai a'))\n",
    "b=int(input('masukkan nilai b'))\n",
    "c=int(input('masukkan nilai c'))\n",
    "if a>b:\n",
    "    hasil=a\n",
    "elif b>c:\n",
    "    hasil=b\n",
    "else:\n",
    "    hasil=c\n",
    "print('nilai terbesar adalah',hasil)"
   ]
  },
  {
   "cell_type": "code",
   "execution_count": null,
   "id": "3a6d30a8",
   "metadata": {},
   "outputs": [],
   "source": [
    "#kalkulasi akhir dari nilai\n",
    "mid=int(input('masukkan nilai mid='))\n",
    "final=int(input('masukkan nilai final='))\n",
    "project=int(input('masukkan nilai project='))\n",
    "x=(mid+final+project)/3\n",
    "y=mid+final+project\n",
    "#konversi skor numerik ke alfabert\n",
    "if x<=100 and x>80:\n",
    "    print(x,'nilianya A')\n",
    "elif x<80 and x>60:\n",
    "    print(x,'nilainya B')\n",
    "elif x<60 and x>50:\n",
    "    print(x,'nilainya C')\n",
    "else:\n",
    "    print(x, \"nilainya D\")\n",
    "print('rata ratanya',x)\n",
    "print('total keseluruhan nilai=',y)"
   ]
  },
  {
   "cell_type": "code",
   "execution_count": null,
   "id": "d1d24f9e",
   "metadata": {},
   "outputs": [],
   "source": [
    "# operasi dua bilangan \n",
    "bil1=float(input(\"masukkan angka 1= \"))\n",
    "opr=input(\"masukkan operatorr= \")\n",
    "bil2=float(input(\"masukkan angka 2= \"))\n",
    "if opr==\"+\":\n",
    "    hasil=bil1+bil2\n",
    "    print(\"hassil dari\",bil1,\" + \",bil2,\" = \",hasil)\n",
    "elif opr==\"-\":\n",
    "    hasil=bil1-bil2\n",
    "    print(\"hassil dari\",bil1,\" - \",bil2,\" = \",hasil)\n",
    "elif opr==\"/\":\n",
    "    hasil=bil1/bil2\n",
    "    print(\"hassil dari\",bil1,\" / \",bil2,\" = \",hasil)\n",
    "elif opr==\"*\":\n",
    "    hasil=bil1*bil2\n",
    "    print(\"hasil dari\",bil1,\" * \",bil2,\" = \",hasil)\n",
    "else:\n",
    "    print(\"operator belum tersedia\")"
   ]
  },
  {
   "cell_type": "code",
   "execution_count": null,
   "id": "fd9d5d49",
   "metadata": {},
   "outputs": [],
   "source": [
    "# menentukan segitiga siku siku atau tidak\n",
    "a=int(input(\"masukkan sisi a=\"))\n",
    "b=int(input(\"masukkan sisi b=\"))\n",
    "c=int(input(\"masukkan sisi c=\"))\n",
    "if a>b:\n",
    "    sisiMiring=a\n",
    "    sisi1=b\n",
    "    sisi2=c\n",
    "elif b>c:\n",
    "    sisiMiring=b\n",
    "    sisi1=a\n",
    "    sisi2=c\n",
    "else:\n",
    "    sisiMiring=c\n",
    "    sisi1=a\n",
    "    sisi2=b\n",
    "if sisiMiring**2==sisi1**2+sisi2**2:\n",
    "    print(\"segitiga siku siku \",sisi1,\"dan\",sisi2,\"dengan sisi miring \",sisiMiring)\n",
    "else:\n",
    "    print(a,b,c,\"bukan segitiga siku siku\")"
   ]
  },
  {
   "cell_type": "markdown",
   "id": "f4e1c160",
   "metadata": {},
   "source": [
    "## Looping/Iterasi( Perulangan)\n",
    "## For"
   ]
  },
  {
   "cell_type": "code",
   "execution_count": null,
   "id": "469614f2",
   "metadata": {},
   "outputs": [],
   "source": [
    "# mengulang kata kata\n",
    "a=5\n",
    "for i in range (0,a):\n",
    "    print(i,\". Selamat datang di Python\")"
   ]
  },
  {
   "cell_type": "code",
   "execution_count": null,
   "id": "f3901c8e",
   "metadata": {},
   "outputs": [],
   "source": [
    "#Mengulang angka dari 1 hingga berapa banyak looping yang kita inginkan\n",
    "angka =int(input(\"Masukkan batasan looping= \"))\n",
    "#untuk menyimpan data sementara\n",
    "x=0\n",
    "#program looping tersebut\n",
    "for i in range(angka):\n",
    "  #penambahan berguna untuk menambah angka dalam data \n",
    "  x+=1\n",
    "#output dari program\n",
    "  print('bilangan ke -',(i+1),':',x)"
   ]
  },
  {
   "cell_type": "code",
   "execution_count": null,
   "id": "c2a7fb36",
   "metadata": {},
   "outputs": [],
   "source": [
    "#Odd Number\n",
    "n=int(input('masukkan batas jumlah bilangan = '))\n",
    "y=0\n",
    "x=0\n",
    "for i in range (n):\n",
    "  x+=1\n",
    "  print('bilangan ke -',(i+1),':',x)\n",
    "  y+=x\n",
    "print('total = ', y)"
   ]
  },
  {
   "cell_type": "code",
   "execution_count": null,
   "id": "12fb57ba",
   "metadata": {},
   "outputs": [],
   "source": [
    "# bilangan genap batas angka\n",
    "inp=int(input(\"masukkan batas bilangan\"))\n",
    "temp=1\n",
    "for i in range(2,inp+1,2):\n",
    "    print(temp,\" . \",i)\n",
    "    temp+=1"
   ]
  },
  {
   "cell_type": "code",
   "execution_count": null,
   "id": "1b413f4a",
   "metadata": {},
   "outputs": [],
   "source": [
    "# bilangan ganjil dengan berapa angka \n",
    "n=int(input(\"masukkan berapa angkaa \"))\n",
    "for i in range(1,n*2,2):\n",
    "    print(i)"
   ]
  },
  {
   "cell_type": "code",
   "execution_count": null,
   "id": "456abe56",
   "metadata": {},
   "outputs": [],
   "source": [
    "#bilangaan ganjil mundur\n",
    "n =int(input(\"masukkan batas = \"))\n",
    "for i in range(n,0,-1):\n",
    "    if i%2==1:\n",
    "        print(i)"
   ]
  },
  {
   "cell_type": "code",
   "execution_count": null,
   "id": "81edcc5b",
   "metadata": {},
   "outputs": [],
   "source": [
    "# y = sigma i=1 to n dari 2i+4\n",
    "n=int(input(\"masukkan nilai n = \"))\n",
    "hasil=0\n",
    "for i in range(1,n+1):\n",
    "    temp=2*i+4\n",
    "    print(temp)\n",
    "    hasil+=temp\n",
    "print(\"jumlahnya / y =\",hasil)"
   ]
  },
  {
   "cell_type": "code",
   "execution_count": null,
   "id": "4a42a7c2",
   "metadata": {},
   "outputs": [],
   "source": [
    "# y = x + (sigma i =1 to n dari i^2)\n",
    "n=int(input(\"masukkan nilai n = \"))\n",
    "x=int(input(\"masukkan nilai x = \"))\n",
    "count=0\n",
    "hasil=0\n",
    "for i in range(1,n+1):\n",
    "    hasil=i**2\n",
    "    print(hasil)\n",
    "    count+=hasil\n",
    "print(\"hasil / y =\",count+x)"
   ]
  },
  {
   "cell_type": "code",
   "execution_count": null,
   "id": "399ec2a4",
   "metadata": {},
   "outputs": [],
   "source": [
    "# sigma modul 1 (y = i=1 to n dari i^2 +2i)\n",
    "n=int(input(\"masukkan nilai n = \"))\n",
    "hasil=0\n",
    "count=0\n",
    "for i in range(1,n+1):\n",
    "    hasil=(i**2)+2*i\n",
    "    count+=hasil\n",
    "print(count)"
   ]
  },
  {
   "cell_type": "code",
   "execution_count": null,
   "id": "fa5c50a9",
   "metadata": {},
   "outputs": [],
   "source": [
    "#Digunakan dalam Aritmatika\n",
    "n=int(input(\"masukkan nilai n = \"))\n",
    "a=int(input(\"masukkan nilai a = \"))\n",
    "b=int(input(\"masukkan nilai b = \"))\n",
    "x=0\n",
    "for i in range (1,n+1):\n",
    "    x=x+a #untuk menyimpan sn\n",
    "    print('u-',(i),':',a)\n",
    "    a=a+b #untuk  menambahkan b\n",
    "print('Sn : ',x)"
   ]
  },
  {
   "cell_type": "code",
   "execution_count": null,
   "id": "9394c39d",
   "metadata": {},
   "outputs": [],
   "source": [
    "## Algoritma mencari pemfaktoran\n",
    "num=int(input('Masukkan bilangan= '))\n",
    "for i in range(1, num+1):\n",
    "        if num % i == 0:\n",
    "            print(i)"
   ]
  },
  {
   "cell_type": "code",
   "execution_count": null,
   "id": "737622ff",
   "metadata": {},
   "outputs": [],
   "source": [
    "# bilangan prima \n",
    "num=int(input(\"masukkan bilangan\"))\n",
    "faktor=0\n",
    "for i in range(1,num+1):\n",
    "    if num%i==0:\n",
    "        faktor+=1\n",
    "if faktor==2:\n",
    "    print(num,\"adalah bilangan prima\")\n",
    "else:\n",
    "    print(num,\"bukan bilangan prima\")"
   ]
  },
  {
   "cell_type": "code",
   "execution_count": null,
   "id": "7a758fcd",
   "metadata": {},
   "outputs": [],
   "source": [
    "# 1,1,2,3,5,8,13\n",
    "bil=int(input(\"masukkan batas = \"))\n",
    "a=1\n",
    "b=1\n",
    "print(a)\n",
    "print(b)\n",
    "for i in range(bil-2):\n",
    "    x=a+b\n",
    "    print(x)\n",
    "    a=b\n",
    "    b=x\n",
    "    "
   ]
  },
  {
   "cell_type": "code",
   "execution_count": null,
   "id": "49c77f2a",
   "metadata": {},
   "outputs": [],
   "source": [
    "# 1,3,6,10,15\n",
    "n=int(input(\"masukkan batas = \"))\n",
    "temp=1\n",
    "for i in range(2,n+1):\n",
    "    print(temp)\n",
    "    temp=temp+i"
   ]
  },
  {
   "cell_type": "code",
   "execution_count": null,
   "id": "4d2f5356",
   "metadata": {},
   "outputs": [],
   "source": [
    "# membuat bab iterasi dalam iterasi\n",
    "bab=int(input(\"masukkan jumlah bab = \"))\n",
    "subbab=int(input(\"masukkan jamlah sub bab = \"))\n",
    "for i in range(1,bab+1):\n",
    "    print(i,\". \")\n",
    "    for j in range(1,subbab+1):\n",
    "        print(\"  \",i,\" . \",j)"
   ]
  },
  {
   "cell_type": "markdown",
   "id": "e349dd33",
   "metadata": {},
   "source": [
    "## While "
   ]
  },
  {
   "cell_type": "code",
   "execution_count": null,
   "id": "0db94c7b",
   "metadata": {},
   "outputs": [],
   "source": [
    "# Algoritma Iteration - Menampilkan sejumlah n bilangan genap\n",
    "num=int(input('bilangan genap Tertinggi = '))\n",
    "count=1\n",
    "i=1\n",
    "while i<=num:\n",
    "    if i%2==0:\n",
    "        print(count,'. ',i)\n",
    "        count=count+1\n",
    "    i=i+1"
   ]
  },
  {
   "cell_type": "code",
   "execution_count": null,
   "id": "629e58d9",
   "metadata": {},
   "outputs": [],
   "source": [
    "# bilangan ganjil\n",
    "n=int(input(\"masukkan bilangan= \"))\n",
    "i=1\n",
    "while i<=n:\n",
    "    if i%2==1:\n",
    "        print(i)\n",
    "    i+=1 "
   ]
  },
  {
   "cell_type": "code",
   "execution_count": null,
   "id": "ac5e2c8d",
   "metadata": {},
   "outputs": [],
   "source": [
    "# menebak angka rahasia\n",
    "x=10\n",
    "stop=False\n",
    "while not(stop):\n",
    "    num=int(input(\"masukkan bilangan =\"))\n",
    "    if num==x:\n",
    "        print(\"right\")\n",
    "        stop=True\n",
    "    elif num>x:\n",
    "        print(\"higher please\")\n",
    "    else:\n",
    "        print(\"lower please\")"
   ]
  },
  {
   "cell_type": "code",
   "execution_count": null,
   "id": "9dfa59e9",
   "metadata": {},
   "outputs": [],
   "source": [
    "# bilangan prima tidak sampai n\n",
    "n=int(input(\"msaukkan bilangan prima = \"))\n",
    "i=1\n",
    "faktor=0\n",
    "while i<=n and faktor<3:\n",
    "    if n%i==0:\n",
    "        faktor+=1\n",
    "    i+=1\n",
    "if faktor==2:\n",
    "    print(n,\" adalah bilangan prima\")\n",
    "else:\n",
    "    print(n,\" bukan bilangan prima\")"
   ]
  },
  {
   "cell_type": "code",
   "execution_count": null,
   "id": "76b20f00",
   "metadata": {},
   "outputs": [],
   "source": [
    "des=int(input(\"masukkan nilaai desimal = \"))\n",
    "count=''\n",
    "bil=des\n",
    "while des!=0:\n",
    "    a=des//2\n",
    "    b=des%2\n",
    "    print(b)\n",
    "    des=a\n",
    "    count+=str(b)\n",
    "print(\">\",bil,\" = \",count)   "
   ]
  },
  {
   "cell_type": "code",
   "execution_count": null,
   "id": "c7590e5f",
   "metadata": {},
   "outputs": [],
   "source": []
  },
  {
   "cell_type": "code",
   "execution_count": null,
   "id": "ec1ff432",
   "metadata": {},
   "outputs": [],
   "source": [
    "stop=False\n",
    "while not(stop):\n",
    "    print(77*\"=\",'''\n",
    "Menu\n",
    "Tekan 1 untuk operasi perhitungan luas lingkaran (input adalah jari-jari)\n",
    "Tekan 2 untuk operasi perhitungan luas persegi panjang (input adalah panjang dan lebar)\n",
    "Tekan 3 untuk operasi perhitungan luas segitiga (input adalah alas adan tinggi)''')\n",
    "    inp=int(input(\"masukkan pilihan anda = \"))\n",
    "    if inp==1:\n",
    "        r=int(input(\"masukkan jari-jari =\"))\n",
    "        print(\"Luas lingkaran = \",(22/7)*r**2)\n",
    "    elif inp==2:\n",
    "        p=int(input(\"masukkan panjang = \"))\n",
    "        l=int(input(\"masukkan lebar = \"))\n",
    "        print(\"Luas persegi panjang = \",p*l)\n",
    "    else:\n",
    "        a=int(input(\"masukkan alas = \"))\n",
    "        t=int(input(\"masukkan tinggi = \"))\n",
    "        print(\"Luas segitiga = \",(1/2)*a*t)\n",
    "    pilih=input(\"Ingin menggulangi operasi kembali (y/t) ?\")\n",
    "    if pilih==\"t\":\n",
    "        stop=True"
   ]
  },
  {
   "cell_type": "markdown",
   "id": "93015e82",
   "metadata": {},
   "source": [
    "## String\n",
    "string bersifat immutable<br>\n",
    "len(strVar) untuk menghitung barapa jumlah string <br>\n",
    "available methods:strVar.upper() , strVar.find()"
   ]
  },
  {
   "cell_type": "code",
   "execution_count": null,
   "id": "9a40ec99",
   "metadata": {},
   "outputs": [],
   "source": [
    "data=\"'jombang'\""
   ]
  },
  {
   "cell_type": "code",
   "execution_count": null,
   "id": "6e7f2ad6",
   "metadata": {},
   "outputs": [],
   "source": [
    "data='jombang'\n",
    "print(data)"
   ]
  },
  {
   "cell_type": "code",
   "execution_count": null,
   "id": "ad563549",
   "metadata": {},
   "outputs": [],
   "source": [
    "data=\"Kelas Algoritma\"\n",
    "temp=data[6:14+1]"
   ]
  },
  {
   "cell_type": "code",
   "execution_count": null,
   "id": "2f05d6f6",
   "metadata": {},
   "outputs": [],
   "source": [
    "data[:]"
   ]
  },
  {
   "cell_type": "code",
   "execution_count": null,
   "id": "cc38ccb3",
   "metadata": {},
   "outputs": [],
   "source": [
    "data"
   ]
  },
  {
   "cell_type": "code",
   "execution_count": null,
   "id": "a52e773b",
   "metadata": {},
   "outputs": [],
   "source": [
    "data[6:]"
   ]
  },
  {
   "cell_type": "code",
   "execution_count": null,
   "id": "6311739b",
   "metadata": {},
   "outputs": [],
   "source": [
    "data[:3] #huruf 0 - 3"
   ]
  },
  {
   "cell_type": "code",
   "execution_count": null,
   "id": "4aa795d7",
   "metadata": {},
   "outputs": [],
   "source": [
    "data[-1] #huruf terakhir"
   ]
  },
  {
   "cell_type": "code",
   "execution_count": null,
   "id": "7d189de9",
   "metadata": {},
   "outputs": [],
   "source": [
    "data[:-1] "
   ]
  },
  {
   "cell_type": "code",
   "execution_count": null,
   "id": "d39ba829",
   "metadata": {},
   "outputs": [],
   "source": [
    "data[3:8:2] # awal,akhir,langkah"
   ]
  },
  {
   "cell_type": "code",
   "execution_count": null,
   "id": "66243ae0",
   "metadata": {},
   "outputs": [],
   "source": [
    "data[::-1]"
   ]
  },
  {
   "cell_type": "code",
   "execution_count": null,
   "id": "2ce7e89f",
   "metadata": {},
   "outputs": [],
   "source": [
    "len(data)"
   ]
  },
  {
   "cell_type": "code",
   "execution_count": null,
   "id": "995132ce",
   "metadata": {},
   "outputs": [],
   "source": [
    "# metods\n"
   ]
  },
  {
   "cell_type": "code",
   "execution_count": null,
   "id": "d2d45a5d",
   "metadata": {},
   "outputs": [],
   "source": [
    "for i in range(len(data)):\n",
    "    print(data[i])"
   ]
  },
  {
   "cell_type": "code",
   "execution_count": null,
   "id": "880f4718",
   "metadata": {},
   "outputs": [],
   "source": [
    "for ch in data:\n",
    "    print(ch)"
   ]
  },
  {
   "cell_type": "code",
   "execution_count": null,
   "id": "67903518",
   "metadata": {},
   "outputs": [],
   "source": [
    "inp=input(\"masukkan kata = \")\n",
    "vokal=\"aiueo\"\n",
    "count=0\n",
    "for i in range (len(inp)):\n",
    "    for ch in vokal:\n",
    "        if inp[i]==ch:\n",
    "            count+=1\n",
    "print(\"jumlah vokal di dalam \",inp,\" = \",count)"
   ]
  },
  {
   "cell_type": "code",
   "execution_count": null,
   "id": "0984fcae",
   "metadata": {},
   "outputs": [],
   "source": [
    "\"i\" in 'aiueo'"
   ]
  },
  {
   "cell_type": "code",
   "execution_count": null,
   "id": "f6b7425e",
   "metadata": {},
   "outputs": [],
   "source": [
    "data=\"surabaya\"\n",
    "count=0\n",
    "for i in data:\n",
    "    if i==\"a\" or i=='i'or i=='u'or i=='e' or i==\"o\":\n",
    "        count+=1\n",
    "print(count)"
   ]
  },
  {
   "cell_type": "code",
   "execution_count": null,
   "id": "a7336eb9",
   "metadata": {},
   "outputs": [],
   "source": [
    "data=\"surabaya\"\n",
    "vokal=\"aiueo\"\n",
    "temp=0\n",
    "for i in range(len(data)):\n",
    "    if data[i] in vokal:\n",
    "        temp+=1\n",
    "print(temp)"
   ]
  },
  {
   "cell_type": "code",
   "execution_count": null,
   "id": "fde7bf09",
   "metadata": {},
   "outputs": [],
   "source": [
    "data=\"surabaya\"\n",
    "count=0\n",
    "for i in data:\n",
    "    if i in'aiueo':\n",
    "        count+=1\n",
    "print(count)"
   ]
  },
  {
   "cell_type": "code",
   "execution_count": null,
   "id": "2cfdc518",
   "metadata": {},
   "outputs": [],
   "source": [
    "# pr buat kode biner ke desimal"
   ]
  },
  {
   "cell_type": "code",
   "execution_count": null,
   "id": "00db2c12",
   "metadata": {
    "scrolled": true
   },
   "outputs": [],
   "source": [
    "# mengubah biner ke desimal\n",
    "varbin=input('masukkan biner = ')\n",
    "temp=0\n",
    "pangkat=0\n",
    "for i in range(len(varbin)-1,-1,-1):\n",
    "    hasil=int(varbin[i])*(2**pangkat)\n",
    "    pangkat+=1\n",
    "    temp+=hasil\n",
    "    print(hasil)\n",
    "print(varbin,\" = \",temp)"
   ]
  },
  {
   "cell_type": "code",
   "execution_count": null,
   "id": "7ad39310",
   "metadata": {
    "scrolled": true
   },
   "outputs": [],
   "source": [
    "# vokal konsosnan \n",
    "inp=input(\"masukkan kalimat = \")\n",
    "konsonan=\"bcdfghjklmnpqrstvwxyz\"\n",
    "vokal=\"aiueo\"\n",
    "space=\" \"\n",
    "angka=\"1234567890\"\n",
    "count=count1=count2=count3=0\n",
    "for i in range(len(inp)):\n",
    "    for j in vokal:\n",
    "        if inp[i]==j:\n",
    "            count+=1\n",
    "    for k in konsonan:\n",
    "        if inp[i]==k:\n",
    "            count1+=1\n",
    "    for l in space:\n",
    "        if inp[i]==l:\n",
    "            count2+=1\n",
    "    for m in angka:\n",
    "        if inp[i]==m:\n",
    "            count3+=1\n",
    "print(\"jumlah huruf konsonan adalah = \",count1,\n",
    "      \"\\njumlah huruf vokal adalah = \",count,\n",
    "      \"\\njumlah spasi adalah = \",count2,\n",
    "      \"\\njumlah angka adalah = \",count3)"
   ]
  },
  {
   "cell_type": "code",
   "execution_count": null,
   "id": "25292fef",
   "metadata": {},
   "outputs": [],
   "source": [
    "# deret langkah 6 (uts)\n",
    "banBil      = int(input(\"Banyaknya bilangan : \"))\n",
    "bilPertama  = int(input(\"Bilangan pertama :\"))\n",
    "der         = \"\"\n",
    "for i in range (bilPertama,banBil*6,6) :\n",
    "     der=der+str(i)+\", \"\n",
    "print(\"Deret Bilangan : \",der)"
   ]
  },
  {
   "cell_type": "code",
   "execution_count": null,
   "id": "bfadda72",
   "metadata": {},
   "outputs": [],
   "source": [
    "# deret bilangan genap (uts)\n",
    "bilAkhir=int(input(\"masukkan bilangan terakhir = \"))\n",
    "temp=''\n",
    "count=0\n",
    "for i in range(2,bilAkhir,2):\n",
    "    temp=temp+str(i)+\", \"\n",
    "    count+=1\n",
    "print(\"bilangan = \",temp,\n",
    "      \"\\nbanyaknya bilangan genap = \",count)"
   ]
  },
  {
   "cell_type": "code",
   "execution_count": null,
   "id": "b542c7df",
   "metadata": {},
   "outputs": [],
   "source": [
    "ch=input(\"masukkan karakter = \") (uts)\n",
    "jml=int(input(\"masukkan jumlah baris = \"))\n",
    "for i in range(1,jml+1):\n",
    "    print(ch*i)"
   ]
  },
  {
   "cell_type": "code",
   "execution_count": null,
   "id": "290b6be5",
   "metadata": {},
   "outputs": [],
   "source": [
    "biner = input(\"Masukkan bilangan biner : \")\n",
    "total = 0\n",
    "pangkat =len(biner)-1\n",
    "for bi in biner:\n",
    "    print(bi)\n",
    "    if bi == \"1\" :\n",
    "        total = 2**pangkat + total\n",
    "    pangkat-=1\n",
    "print(biner,\" = \",total)"
   ]
  },
  {
   "cell_type": "code",
   "execution_count": null,
   "id": "8905597a",
   "metadata": {},
   "outputs": [],
   "source": [
    "# meencari huruf \n",
    "kr=input(\"masukkan karakter = \")\n",
    "cari=input(\"masukkan karakter yang dicari = \")\n",
    "count=0\n",
    "for i in kr:\n",
    "    for x in cari:\n",
    "        if i==x:\n",
    "            count+=1\n",
    "print(f\"Jadi huruf {cari} yang ada di {kr} adalah {count}\")"
   ]
  },
  {
   "cell_type": "code",
   "execution_count": 1,
   "id": "435d8e3c",
   "metadata": {},
   "outputs": [
    {
     "name": "stdout",
     "output_type": "stream",
     "text": [
      "Masukkan angka =1234\n",
      "1  :  0  x  100000\n",
      "2  :  0  x  10000\n",
      "3  :  1  x  1000\n",
      "4  :  2  x  100\n",
      "5  :  3  x  10\n",
      "6  :  4  x  1\n"
     ]
    }
   ],
   "source": [
    "# Praktikum\n",
    "n=input(\"Masukkan angka =\")\n",
    "x=0\n",
    "h=100000\n",
    "count=6\n",
    "a=0\n",
    "for i in range(1,7):\n",
    "    if count<=len(n):\n",
    "        x=n[a]\n",
    "        a+=1\n",
    "    print(i,' : ',x,' x ',h)\n",
    "    count-=1\n",
    "    h//=10"
   ]
  },
  {
   "cell_type": "markdown",
   "id": "546be9ce",
   "metadata": {},
   "source": [
    "### List"
   ]
  },
  {
   "cell_type": "code",
   "execution_count": null,
   "id": "777819b1",
   "metadata": {},
   "outputs": [],
   "source": [
    "data=[90,56,34,78,86,90,87,88,75,65,86,57,89,67,80]\n",
    "result=0\n",
    "for i in data:\n",
    "    if i%2==0:\n",
    "        print(result,\" + \",i)\n",
    "        result+=i\n",
    "print(\"jumlah bilangan ganjil dari data = \",result)"
   ]
  },
  {
   "cell_type": "code",
   "execution_count": 2,
   "id": "924406f7",
   "metadata": {},
   "outputs": [
    {
     "name": "stdout",
     "output_type": "stream",
     "text": [
      "[12, 34, 56, 54, 78, 89, 89, 77, 34, 99, 88, 88, 77, 55]\n",
      "[12, 100, 34, 56, 54, 78, 89, 89, 77, 34, 99, 88, 88, 77, 55]\n",
      "[12, 100, 34, 56, 54, 78, 89, 89, 77, 34, 99, 88, 88, 77, 55, -7]\n"
     ]
    }
   ],
   "source": [
    "lis = [12,34,56,54,78,89,89,77,34,99,88,88,77,55]\n",
    "print(lis)\n",
    "lis.insert(1,100) #(index,list yang di tambahkan)\n",
    "print(lis)\n",
    "lis.append(-7)# menambahkan list dari belakang\n",
    "print(lis)"
   ]
  },
  {
   "cell_type": "code",
   "execution_count": 3,
   "id": "0cda825b",
   "metadata": {},
   "outputs": [
    {
     "name": "stdout",
     "output_type": "stream",
     "text": [
      "[100, 34, 56, 54, 78, 89, 89, 77, 34, 99, 88, 88, 77, 55, -7]\n"
     ]
    }
   ],
   "source": [
    "#menghapus list\n",
    "lis.remove(12) #akan error kalau data tidak ada\n",
    "print(lis)"
   ]
  },
  {
   "cell_type": "code",
   "execution_count": 4,
   "id": "ae7f5970",
   "metadata": {},
   "outputs": [
    {
     "name": "stdout",
     "output_type": "stream",
     "text": [
      "[12, 56, 54, 78, 89, 89, 77, 34, 99, 88, 88, 77]\n"
     ]
    }
   ],
   "source": [
    "lis.pop() # menghapus list dari belakang\n",
    "print(lis)"
   ]
  },
  {
   "cell_type": "code",
   "execution_count": 5,
   "id": "7c903b21",
   "metadata": {},
   "outputs": [
    {
     "name": "stdout",
     "output_type": "stream",
     "text": [
      "[100, 34, 56, 54, 78, 89, 89, 77, 34, 99, 88, 88, 77, 55, 1, 2, 3]\n"
     ]
    }
   ],
   "source": [
    "# menggabungkan dua buah list\n",
    "list_baru=[1,2,3]\n",
    "lis.extend(list_baru)\n",
    "print(lis)"
   ]
  },
  {
   "cell_type": "code",
   "execution_count": 6,
   "id": "75396110",
   "metadata": {},
   "outputs": [
    {
     "name": "stdout",
     "output_type": "stream",
     "text": [
      "[100, 34, 56, 54, 78, 89, 89, 77, 34, 99, 88, 88, 77, 55, 1, 2, 3]\n",
      "[100, 0, 56, 54, 78, 89, 89, 77, 34, 99, 88, 88, 77, 55, 1, 2, 3]\n"
     ]
    }
   ],
   "source": [
    "#mengganti list menggunakan assigment operator\n",
    "print(lis)\n",
    "lis[1]=0\n",
    "print(lis)"
   ]
  },
  {
   "cell_type": "code",
   "execution_count": 7,
   "id": "721c21f1",
   "metadata": {},
   "outputs": [
    {
     "name": "stdout",
     "output_type": "stream",
     "text": [
      "Jumlah dari 88 adalah 2\n",
      "Jumlah dari 100 adalah 1\n"
     ]
    }
   ],
   "source": [
    "# jumlah data yang sama di dalam list\n",
    "jumlah_88 = lis.count(88)\n",
    "print(\"Jumlah dari 88 adalah\",jumlah_88)\n",
    "jumlah_100 = lis.count(100)\n",
    "print(\"Jumlah dari 100 adalah\",jumlah_100)"
   ]
  },
  {
   "cell_type": "code",
   "execution_count": 8,
   "id": "47ae3e6c",
   "metadata": {},
   "outputs": [
    {
     "name": "stdout",
     "output_type": "stream",
     "text": [
      "index dari 0 = 1\n"
     ]
    }
   ],
   "source": [
    "#mengetahiu index/posisi dari list\n",
    "indexLis = lis.index(0)\n",
    "print(\"index dari 0 =\",indexLis)"
   ]
  },
  {
   "cell_type": "code",
   "execution_count": 9,
   "id": "4ed1680a",
   "metadata": {},
   "outputs": [
    {
     "name": "stdout",
     "output_type": "stream",
     "text": [
      "['ana', 'niu', 'anu', 'ono', 'buni']\n",
      "['ana', 'anu', 'buni', 'niu', 'ono']\n",
      "[100, 0, 56, 54, 78, 89, 89, 77, 34, 99, 88, 88, 77, 55, 1, 2, 3]\n",
      "[0, 1, 2, 3, 34, 54, 55, 56, 77, 77, 78, 88, 88, 89, 89, 99, 100]\n"
     ]
    }
   ],
   "source": [
    "#mengurutkan list\n",
    "nama = ['ana','niu','anu','ono','buni']\n",
    "print(nama)\n",
    "nama.sort()\n",
    "print(nama)\n",
    "print(lis)\n",
    "lis.sort()\n",
    "print(lis)"
   ]
  },
  {
   "cell_type": "code",
   "execution_count": 10,
   "id": "23226561",
   "metadata": {},
   "outputs": [
    {
     "name": "stdout",
     "output_type": "stream",
     "text": [
      "[100, 99, 89, 89, 88, 88, 78, 77, 77, 56, 55, 54, 34, 3, 2, 1, 0]\n"
     ]
    }
   ],
   "source": [
    "# membalik list\n",
    "lis.reverse()\n",
    "print(lis)"
   ]
  },
  {
   "cell_type": "code",
   "execution_count": 6,
   "id": "60e1df1d",
   "metadata": {},
   "outputs": [
    {
     "name": "stdout",
     "output_type": "stream",
     "text": [
      "nama =  ['ana', 'niu', 'anu', 'ono', 'buni']\n",
      "name =  ['ana', 'niu', 'anu', 'ono', 'buni']\n",
      "0x1e8cbe00480\n",
      "0x1e8cbe00480\n",
      "0x1e8cbdaa1c0\n"
     ]
    }
   ],
   "source": [
    "#metod copy list\n",
    "nama = ['ana','niu','anu','ono','buni']\n",
    "print(\"nama = \",nama)\n",
    "name = nama # menggunakan asiggment operator\n",
    "print(\"name = \",name)\n",
    "jeneng = nama.copy() #menggunakan metods list\n",
    "print(hex(id(nama))) \n",
    "print(hex(id(name))) # kalau menggunakan asigment operator id lis akan sama \n",
    "print(hex(id(jeneng))) # kalau menggunakan metods id tidak sama"
   ]
  },
  {
   "cell_type": "code",
   "execution_count": null,
   "id": "daa9679d",
   "metadata": {},
   "outputs": [],
   "source": [
    "# list comprehension\n",
    "[print(i) for i in name]"
   ]
  },
  {
   "cell_type": "code",
   "execution_count": null,
   "id": "12bfbe45",
   "metadata": {},
   "outputs": [],
   "source": [
    "kumpulanAngka = [12,34,56,54,78,89,89,77,34,99,88,88,77,55]\n",
    "angkaKuadrat=[i+10 for i in kumpulanAngka]\n",
    "print(angkaKuadrat)"
   ]
  },
  {
   "cell_type": "code",
   "execution_count": null,
   "id": "dd80823b",
   "metadata": {},
   "outputs": [],
   "source": [
    "# enumerate\n",
    "for index,data in enumerate(nama):\n",
    "    print(f\"index ke - {index} data = {data}\")"
   ]
  },
  {
   "cell_type": "code",
   "execution_count": null,
   "id": "d3bfef8f",
   "metadata": {},
   "outputs": [],
   "source": [
    "#program list maba\n",
    "dataMaba = []\n",
    "while 1 :\n",
    "    print(\"\\nMasukkan Data Mahasiswa\")\n",
    "    nama = input(\"Nama\\t:\")\n",
    "    nim = input(\"NIM\\t:\")\n",
    "    tambahMaba = [nama,nim]\n",
    "    dataMaba.append(tambahMaba)\n",
    "    print(\"Data Mahasiswa\".center(40,\"=\"))\n",
    "    for index, data in enumerate(dataMaba):\n",
    "        print(f'{index+1}\\t|{data[0]}\\t|{data[1]}')\n",
    "    pilih = input(\"Apa lanjut ? y/t\")\n",
    "    if pilih== \"t\":\n",
    "        break"
   ]
  },
  {
   "cell_type": "code",
   "execution_count": null,
   "id": "0a765226",
   "metadata": {},
   "outputs": [],
   "source": [
    "# mencari max\n",
    "angka=[90,56,34,78,86,90,87,88,75,65,86,57,89,67,80]\n",
    "temp=0\n",
    "for i in angka:\n",
    "    if i>temp:\n",
    "        temp=i\n",
    "print(\"nilai terbesar dari\",angka,\"adalah\",temp)"
   ]
  },
  {
   "cell_type": "code",
   "execution_count": null,
   "id": "ab31f6cb",
   "metadata": {},
   "outputs": [],
   "source": [
    "data = [3,7,10,5]\n",
    "temp=[]\n",
    "for i in range(len(data)-1,-1,-1):\n",
    "    temp.append(data[i])\n",
    "print(temp)"
   ]
  },
  {
   "cell_type": "code",
   "execution_count": null,
   "id": "a4cc57e2",
   "metadata": {},
   "outputs": [],
   "source": [
    "kumpulanAngka=[90,56,34,78,86,90,87,88,75,65,86,57,89,67,80]\n",
    "threshold = 85\n",
    "temp=''\n",
    "for i in range(len(kumpulanAngka)):\n",
    "    if kumpulanAngka[i]>threshold:\n",
    "        temp=temp+str(i)+\" \"\n",
    "print(\"[\",temp,\"]\")"
   ]
  },
  {
   "cell_type": "code",
   "execution_count": null,
   "id": "e0dc5b5d",
   "metadata": {},
   "outputs": [],
   "source": [
    "kumpulanAngka=[90,56,34,78,86,90,87,88,75,65,86,57,89,67,80]\n",
    "stop=True\n",
    "while stop:\n",
    "    print('''Menu\n",
    "1. Nilai rata rata dari list\n",
    "2. Nilai maximum dari list\n",
    "3. Nilai yang lebih besar dari threshold\n",
    "    ''')\n",
    "    inp=int(input(\"masukkan pilihan =\"))\n",
    "    if inp==1:\n",
    "        jumlah=0\n",
    "        for i in kumpulanAngka:\n",
    "            jumlah+=i\n",
    "            rata2=jumlah/len(kumpulanAngka)\n",
    "        print(\"rata- rata dari\",kumpulanAngka,\"adalah\",rata2)\n",
    "    elif inp==2:\n",
    "        temp=0\n",
    "        for i in kumpulanAngka:\n",
    "            if i>temp:\n",
    "                temp=i\n",
    "        print(\"nilai terbesar dari\",kumpulanAngka,\"adalah\",temp)\n",
    "    elif inp==3:\n",
    "        threshold = 85\n",
    "        temp=''\n",
    "        for i in range(len(kumpulanAngka)):\n",
    "            if kumpulanAngka[i]>threshold:\n",
    "                temp=temp+str(kumpulanAngka[i])+\" \"\n",
    "        print(\"nilai terbesar dari\",threshold,\"adalah [\",temp,\"]\")\n",
    "    else:\n",
    "        print(\"menu tidak terdaftar\")\n",
    "    pilih=input(\"Lanjut ? (y/n)\")\n",
    "    if pilih==\"t\":\n",
    "        stop=False"
   ]
  },
  {
   "cell_type": "code",
   "execution_count": null,
   "id": "06cb9248",
   "metadata": {},
   "outputs": [],
   "source": [
    "sizeList=int(input(\"masukkan banyak list = \"))\n",
    "newList=[]\n",
    "for i in range(sizeList):\n",
    "    createList=int(input(\"Masukkan list = \"))\n",
    "    if createList%2==0:\n",
    "        newList.append(createList)\n",
    "print(newList)"
   ]
  },
  {
   "cell_type": "code",
   "execution_count": null,
   "id": "3dec24db",
   "metadata": {},
   "outputs": [],
   "source": [
    "sizeList=int(input(\"masukkan banyak list = \"))\n",
    "newList=[]\n",
    "for i in range(sizeList):\n",
    "    createList=int(input(\"Masukkan list = \"))\n",
    "    if createList%2==0:\n",
    "        newList.append(createList)\n",
    "print(newList)"
   ]
  },
  {
   "cell_type": "code",
   "execution_count": null,
   "id": "ec665446",
   "metadata": {},
   "outputs": [],
   "source": [
    "a=[1,2,3]+[2,3,4]\n",
    "print(a)"
   ]
  },
  {
   "cell_type": "code",
   "execution_count": null,
   "id": "f9675a5c",
   "metadata": {},
   "outputs": [],
   "source": [
    "sizeList1=int(input(\"masukkan banyak list = \"))\n",
    "newList1=[]\n",
    "for i in range(sizeList1):\n",
    "    createList=int(input(\"Masukkan list = \"))\n",
    "    newList1.append(createList)\n",
    "sizeList2=int(input(\"masukkan banyak list = \"))\n",
    "newList2=[]\n",
    "for i in range(sizeList2):\n",
    "    createList=int(input(\"Masukkan list = \"))\n",
    "    newList2.append(createList)\n",
    "if sizeList1>sizeList2:\n",
    "    maks=sizeList1\n",
    "    a=sizeList2\n",
    "    b=newList1\n",
    "else:\n",
    "    maks=sizeList2\n",
    "    a=sizeList1\n",
    "    b=newList2\n",
    "hasilList=[]\n",
    "for x in range(maks):\n",
    "    if x>=a:\n",
    "        hasil=b[x]\n",
    "    else:\n",
    "        hasil=newList1[x]+newList2[x]\n",
    "    hasilList.append(hasil)\n",
    "    hasil=0\n",
    "print(\"hasil = \",hasilList)"
   ]
  }
 ],
 "metadata": {
  "kernelspec": {
   "display_name": "Python 3.9.12 ('base')",
   "language": "python",
   "name": "python3"
  },
  "language_info": {
   "codemirror_mode": {
    "name": "ipython",
    "version": 3
   },
   "file_extension": ".py",
   "mimetype": "text/x-python",
   "name": "python",
   "nbconvert_exporter": "python",
   "pygments_lexer": "ipython3",
   "version": "3.9.12"
  },
  "vscode": {
   "interpreter": {
    "hash": "e7e6dc9be8f1c65284da9564a8969ef94cbb53141aed6e15f2ef15c9221b39ef"
   }
  }
 },
 "nbformat": 4,
 "nbformat_minor": 5
}
