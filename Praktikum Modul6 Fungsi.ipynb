{
 "cells": [
  {
   "cell_type": "markdown",
   "id": "429d9bca",
   "metadata": {},
   "source": [
    "# 1\tFungsi\n",
    "Tulis ringkasan atau penjelasan hal-hal berikut, dengan kata-kata kalian sendiri :\n",
    "1.\tSebutkan alasan kenapa kita harus menggunakan Fungsi (Function), jika perlu tambahkan contoh\n",
    "2.\tSebutkan Jenis Fungsi dan perbedaannya, syntax umum dari fungsi tersebut, berikana contoh\n"
   ]
  },
  {
   "cell_type": "markdown",
   "id": "341f5c12",
   "metadata": {},
   "source": [
    "### Jawaban\n",
    "1. - Dapat dipanggil kembali (berulang kali) dimanapun dibutuhkan fungsi tersebut \n",
    "   - Code jadi lebih ringkas, jumlah baris menjadi lebih sedikit\n",
    "   - Code menjadi lebih mudah untuk dibaca : edit, update, cek error\n",
    "\n",
    "2. - Fungsi tanpa parameter dan tanpa return value : perbedaannya ketika dipanggil hanya mengerjakan code yang ada di dalam fungsi tanpa mengembalikan nilai & tanpa menerima masukan/parameter.\n",
    "     ```\n",
    "     def cetakHello():\n",
    "        print(\"Hello !!!\")   \n",
    "     ```\n",
    "     \n",
    "   - Fungsi dengan argument atau parameter : perbedaannya terdapat parameter yang dapat digunakan untuk variable. tanpa mengembalikan nilai sehingga jika fungsi di print keluar none\n",
    "\n",
    "     ```\n",
    "     def displayText(text):\n",
    "         print(text)\n",
    "     ```\n",
    "   - Fungsi dengan return value : perbedaannya dapat mengembalikan nilai sehingga fungsi menjadi ada nilainya.\n",
    "\n",
    "    ```\n",
    "    def penjumlahan(a,b):\n",
    "        c = a + b\n",
    "        return c\n",
    "    ```\n",
    "     "
   ]
  },
  {
   "cell_type": "markdown",
   "id": "7c807a19",
   "metadata": {},
   "source": [
    "# 2\tImplementasi\n",
    "## 2.1\tCek List\n",
    "Buatlah Fungsi dan code untuk memanggil fungsi dengan menggunakan Python, antara lain :\n",
    "- Fungsi createList untuk membentuk suatu list dengan parameter atau argumen berupa ukuran list\n",
    "- Fungsi isPrime untuk menentukan apakah suatu bilangan adalah bilangan prima, dengan argumen adalah bilangan yang akan dicek\n",
    "- Fungsi createListPrime untuk membuat suatu list yang berisi bilangan prima, dengan ketentuan :\n",
    "  - argumen atau paramater adalah list dimana di setiap anggotanya akan dicek termasuk bilangan prima ataukah tidak\n",
    "  - gunakan fungsi isPrime yang sudah dibuat, untuk cek apakah suatu bilangan adalah bilangan prima\n",
    "  - anggota-anggota list yang dihasilkan dari fungsi ini, tidak boleh sama [Hint: gunakan in]\n",
    "Contoh output yang dihasilkan dapat dilihat pada Gambar 1.\n"
   ]
  },
  {
   "cell_type": "code",
   "execution_count": 11,
   "id": "2ef37057",
   "metadata": {},
   "outputs": [],
   "source": [
    "# Jawaban \n",
    "def createList(size):\n",
    "    dataNum=[]\n",
    "    for i in range(size):\n",
    "        inp=int(input(f\"masukkan data yang ke-{i} :\"))\n",
    "        dataNum.append(inp)\n",
    "    return dataNum\n",
    "\n",
    "def isPrime (num):\n",
    "    count=0\n",
    "    for i in range(1,num+1):\n",
    "        if num % i ==0:\n",
    "            count+=1\n",
    "    return True if count==2 else False\n",
    "\n",
    "def createListPrime(dataList):\n",
    "    result=[]\n",
    "    for i in dataList :\n",
    "        if isPrime(i) and i not in result:\n",
    "            result.append(i)\n",
    "    return result"
   ]
  },
  {
   "cell_type": "code",
   "execution_count": 12,
   "id": "901663af",
   "metadata": {},
   "outputs": [
    {
     "name": "stdout",
     "output_type": "stream",
     "text": [
      "masukkan data yang ke-0 :1\n",
      "masukkan data yang ke-1 :2\n",
      "masukkan data yang ke-2 :3\n",
      "masukkan data yang ke-3 :4\n",
      "masukkan data yang ke-4 :5\n",
      "masukkan data yang ke-5 :6\n",
      "masukkan data yang ke-6 :7\n",
      "masukkan data yang ke-7 :8\n",
      "masukkan data yang ke-8 :9\n",
      "masukkan data yang ke-9 :0\n",
      "data list =  [1, 2, 3, 4, 5, 6, 7, 8, 9, 0]\n",
      "data prima =  [2, 3, 5, 7]\n"
     ]
    }
   ],
   "source": [
    "data = createList(10)\n",
    "print(\"data list = \",data)\n",
    "prima = createListPrime(data)\n",
    "print(\"data prima = \",prima)"
   ]
  },
  {
   "cell_type": "markdown",
   "id": "9db16b4b",
   "metadata": {},
   "source": [
    "## 2.2\tOperasi List\n",
    "Buatlah Fungsi dan code untuk memanggil fungsi dengan menggunakan Python, antara lain :\n",
    "- Fungsi createList untuk membentuk suatu list dengan parameter atau argumen berupa ukuran list\n",
    "- Fungsi avgList untuk menghitung rata-rata suatu list, dengan argumen adalah list\n",
    "- Fungsi addList untuk menjumlahkan dua buah list yang memiliki ukuran yang sama Contoh output yang dihasilkan dapat dilihat pada Gambar 2.\n"
   ]
  },
  {
   "cell_type": "code",
   "execution_count": 13,
   "id": "ccae2fa6",
   "metadata": {},
   "outputs": [],
   "source": [
    "# Jawaban\n",
    "def createList(n):\n",
    "    data=[]\n",
    "    for i in range(n):\n",
    "        x=int(input(f\"masukkan data yang ke-{i} :\"))\n",
    "        data.append(x)\n",
    "    return data\n",
    "\n",
    "def avgList(dataList):\n",
    "    jmlList=0\n",
    "    for i in dataList :\n",
    "        jmlList+=i\n",
    "    return jmlList/len(dataList)\n",
    "\n",
    "def addList(list1,list2):\n",
    "    if len(list1)==len(list2):\n",
    "        hasil=[]\n",
    "        for i in range(len(list1)):\n",
    "            hasil.append(list1[i]+list2[i])\n",
    "    else:\n",
    "        hasil=\"Ukuran Tidak sama\" \n",
    "    return hasil "
   ]
  },
  {
   "cell_type": "code",
   "execution_count": 14,
   "id": "1651da96",
   "metadata": {},
   "outputs": [
    {
     "name": "stdout",
     "output_type": "stream",
     "text": [
      "masukkan data yang ke-0 :1\n",
      "masukkan data yang ke-1 :2\n",
      "masukkan data yang ke-2 :3\n",
      "data-1 =  [1, 2, 3]  rata-rata list =  2.0\n",
      "masukkan data yang ke-0 :1\n",
      "masukkan data yang ke-1 :2\n",
      "masukkan data yang ke-2 :3\n",
      "data-2 =  [1, 2, 3]  rata-rata list =  2.0\n",
      "[1, 2, 3]  +  [1, 2, 3]  =  [2, 4, 6]\n",
      "[2, 4, 6]  +  [2, 4, 6]  =  [4, 8, 12]\n"
     ]
    }
   ],
   "source": [
    "data1=createList(3)\n",
    "print('data-1 = ',data1,' rata-rata list = ',avgList(data1))\n",
    "data2=createList(3)\n",
    "print('data-2 = ',data2,' rata-rata list = ',avgList(data2))\n",
    "hasil = addList(data1,data2)\n",
    "hasil2 = addList(hasil,hasil)\n",
    "print(data1,' + ',data2,' = ',hasil)\n",
    "print(hasil,' + ',hasil,' = ',hasil2)"
   ]
  },
  {
   "cell_type": "markdown",
   "id": "ab0f2e42",
   "metadata": {},
   "source": [
    "## 2.3\tList Comprehension\n",
    "### 2.3.1\tKonsep\n",
    "Jelaskan yang dimaksud dengan list comprehension, dan berikan contohnya\n"
   ]
  },
  {
   "cell_type": "markdown",
   "id": "1f49dc29",
   "metadata": {},
   "source": [
    "### Jawaban\n",
    "List comprehension adalah sintaks yang lebih pendek ketika ingin membuat list baru berdasarkan nilai dari list yang ada.\n",
    "```\n",
    "dataGanjil = [i for i in range(10) if i%2==1]\n",
    "```"
   ]
  },
  {
   "cell_type": "markdown",
   "id": "56f1580d",
   "metadata": {},
   "source": [
    "### 2.3.2\tGaris Lurus\n",
    "Buatlah fungsi dengan return value berupa list (y), dimana list tersebut dibuat dengan menggunakan list comprehension yang menghasilkan koordinat y dari suatu garis lurus dengan persamaan y = mx+c, dimana\n",
    ":\n",
    "- x adalah list yang telah diketahui\n",
    "- m adalah gradient, dan c adalah konstanta\n",
    "- x,m,c adalah parameter fungsi<br>\n",
    "Contoh output yang dihasilkan dapat dilhat pada Gambar 3"
   ]
  },
  {
   "cell_type": "code",
   "execution_count": 8,
   "id": "3dda9ef5",
   "metadata": {},
   "outputs": [],
   "source": [
    "def koordinat(x,m,c):\n",
    "    return [i*m+c for i in x ]"
   ]
  },
  {
   "cell_type": "code",
   "execution_count": 10,
   "id": "150af3bd",
   "metadata": {},
   "outputs": [
    {
     "name": "stdout",
     "output_type": "stream",
     "text": [
      "[3, 4, 1, 2, 5]\n",
      "[11, 14, 5, 8, 17]\n"
     ]
    }
   ],
   "source": [
    "x = [3,4,1,2,5]\n",
    "y = koordinat(x,3,2)\n",
    "print(x)\n",
    "print(y)"
   ]
  }
 ],
 "metadata": {
  "kernelspec": {
   "display_name": "Python 3 (ipykernel)",
   "language": "python",
   "name": "python3"
  },
  "language_info": {
   "codemirror_mode": {
    "name": "ipython",
    "version": 3
   },
   "file_extension": ".py",
   "mimetype": "text/x-python",
   "name": "python",
   "nbconvert_exporter": "python",
   "pygments_lexer": "ipython3",
   "version": "3.9.12"
  }
 },
 "nbformat": 4,
 "nbformat_minor": 5
}
